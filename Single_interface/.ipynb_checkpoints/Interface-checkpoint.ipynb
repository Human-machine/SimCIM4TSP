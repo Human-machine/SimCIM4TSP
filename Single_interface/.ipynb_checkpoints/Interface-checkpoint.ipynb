{
 "cells": [
  {
   "cell_type": "code",
   "execution_count": null,
   "metadata": {},
   "outputs": [],
   "source": [
    "import numpy as np\n",
    "import torch\n",
    "import matplotlib.pyplot as plt\n",
    "from tqdm.notebook import trange\n",
    "\n",
    "from functions import*\n",
    "from Mloop_and_simcim import*\n",
    "\n",
    "datatype = torch.float32\n",
    "device = 'cuda'"
   ]
  },
  {
   "cell_type": "code",
   "execution_count": null,
   "metadata": {},
   "outputs": [],
   "source": []
  },
  {
   "cell_type": "code",
   "execution_count": null,
   "metadata": {},
   "outputs": [],
   "source": [
    "# define number of cities\n",
    "N_cities = 40\n",
    "# random generation of city coordinates and their lengths\n",
    "cities,lengths = generate_cities(N_cities)\n",
    "\n",
    "\n",
    "B = 0.1\n",
    "A = 1.5*B*lengths.max()\n",
    "J,h = get_Jh(lengths, A, B)\n",
    "J = J.to(device)\n",
    "h = h.to(device)"
   ]
  },
  {
   "cell_type": "code",
   "execution_count": null,
   "metadata": {
    "scrolled": true
   },
   "outputs": [],
   "source": [
    "# Сhoose controller type among following options\n",
    "# ['gaussian_process', 'neural_net', 'differential_evolution', 'nelder_mead', 'random']\n",
    "controller_type = 'gaussian_process'\n",
    "\n",
    "#Initilalize simcim interface\n",
    "simcim = Simcim(J, h, device, datatype)\n",
    "\n",
    "#params_opt is a dictionary of optimal parameters found by m-loop\n",
    "params_opt = main(controller_type,simcim)\n",
    "\n",
    "# run simcim using this dictionary\n",
    "c_current, c_evol = simcim.evolve(params_opt)\n",
    "\n",
    "# plotting ammplitudes from a random run\n",
    "for i in range(c_evol.shape[0]):\n",
    "    plt.plot(c_evol[i].cpu().numpy())\n",
    "plt.show()\n",
    "\n",
    "# Calculating energies of Ising Hamiltonian and plotting a histogram\n",
    "s_cur = torch.sign(c_current)\n",
    "E = energy(J,h,s_cur)\n",
    "plt.hist(E.cpu().numpy())\n",
    "plt.show()\n",
    "\n",
    "# choosing a solution with the least energy\n",
    "# extracting route from that solution\n",
    "s_min = s_cur[:,torch.argmin(E)]\n",
    "order = get_order_simcim(s_min,N_cities)\n",
    "\n",
    "#plotting optimal route\n",
    "fig = plot_cities(cities,lengths,order.cpu().numpy())"
   ]
  },
  {
   "cell_type": "code",
   "execution_count": null,
   "metadata": {},
   "outputs": [],
   "source": []
  },
  {
   "cell_type": "code",
   "execution_count": null,
   "metadata": {},
   "outputs": [],
   "source": []
  }
 ],
 "metadata": {
  "kernelspec": {
   "display_name": "Python 3",
   "language": "python",
   "name": "python3"
  },
  "language_info": {
   "codemirror_mode": {
    "name": "ipython",
    "version": 3
   },
   "file_extension": ".py",
   "mimetype": "text/x-python",
   "name": "python",
   "nbconvert_exporter": "python",
   "pygments_lexer": "ipython3",
   "version": "3.7.3"
  }
 },
 "nbformat": 4,
 "nbformat_minor": 2
}
