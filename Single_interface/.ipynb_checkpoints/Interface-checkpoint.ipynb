{
 "cells": [
  {
   "cell_type": "code",
   "execution_count": 1,
   "metadata": {},
   "outputs": [
    {
     "name": "stderr",
     "output_type": "stream",
     "text": [
      "WARNING: Logging before flag parsing goes to stderr.\n",
      "W0225 12:37:29.977145 28628 deprecation.py:323] From C:\\dev\\Anaconda3\\lib\\site-packages\\tensorflow_core\\python\\compat\\v2_compat.py:65: disable_resource_variables (from tensorflow.python.ops.variable_scope) is deprecated and will be removed in a future version.\n",
      "Instructions for updating:\n",
      "non-resource variables are not supported in the long term\n"
     ]
    }
   ],
   "source": [
    "#Imports for M-LOOP\n",
    "import mloop.interfaces as mli\n",
    "import mloop.controllers as mlc\n",
    "import mloop.visualizations as mlv\n",
    "\n",
    "#Other imports\n",
    "import numpy as np\n",
    "import time\n",
    "import matplotlib.pyplot as plt\n",
    "import torch\n",
    "from tqdm.notebook import trange"
   ]
  },
  {
   "cell_type": "code",
   "execution_count": 2,
   "metadata": {},
   "outputs": [],
   "source": [
    "def energy(J,b,s):\n",
    "    return -0.5*torch.einsum('in,ij,jn->n',s,J,s) - torch.einsum('in,ik->n',s,b)\n",
    "\n",
    "def generate_cities(N_cities):\n",
    "    cities = np.random.randn(N_cities,2)\n",
    "    L = (cities.reshape(cities.shape[0],1,2) - cities.reshape(1,cities.shape[0],2))**2\n",
    "    lengths = np.sqrt(np.sum(L,2))\n",
    "    return cities,lengths\n",
    "\n",
    "def plot_cities(ax,cities,order):\n",
    "    N_cities = cities.shape[0]\n",
    "    if order.shape[0]==N_cities:\n",
    "        cities_rearranged = cities[order,:]\n",
    "        for i in range(N_cities-1):\n",
    "            ax.plot(cities_rearranged[i:i+2,0],cities_rearranged[i:i+2,1],'-ro')\n",
    "#             x,y = (cities_rearranged[i,0],cities_rearranged[i,1])\n",
    "#             ax.annotate(str(order[i]),(x,y),xytext=(x+0.01*x,y+0.01*y),fontsize=12)\n",
    "        ax.plot([cities_rearranged[N_cities-1,0],cities_rearranged[0,0]],\n",
    "            [cities_rearranged[N_cities-1,1],cities_rearranged[0,1]],'-ro')\n",
    "#         x,y = (cities_rearranged[-1,0],cities_rearranged[-1,1])\n",
    "#         ax.annotate(str(order[-1]),(x,y),xytext=(x+0.01*x,y+0.01*y),fontsize=12)\n",
    "        ax.set_xlabel('x',fontsize=18)\n",
    "        ax.set_ylabel('y',fontsize=18)\n",
    "        ax.tick_params(labelsize=18)\n",
    "        ax.grid()\n",
    "    else:\n",
    "        ax.text(0.5, 0.5,'Решения не найдено',\n",
    "         horizontalalignment='center',\n",
    "         verticalalignment='center',\n",
    "         transform = ax.transAxes)\n",
    "    \n",
    "def length(order,lengths):\n",
    "    order1 = torch.zeros(order.shape[0],dtype=torch.long)\n",
    "    order1[:-1] = order[1:]\n",
    "    order1[-1] = order[0]\n",
    "    return torch.sum(lengths[(order,order1)])   \n",
    "\n",
    "def Qubo(lengths,A,B):\n",
    "    N_cities = lengths.shape[0]\n",
    "    Q = np.zeros((N_cities,N_cities,N_cities,N_cities))\n",
    "    inds0 = np.arange(N_cities)\n",
    "    inds1 = np.concatenate((inds0[1:],inds0[0:1]))\n",
    "    Q[:,inds0,:,inds1] += B*np.repeat(lengths.reshape(1,N_cities,N_cities),N_cities,axis=0)\n",
    "    dims = np.arange(N_cities)\n",
    "    Q[dims,:,dims,:] += A\n",
    "    inds0 = dims.reshape(N_cities,1).repeat(N_cities,axis=1).flatten()\n",
    "    inds1 = dims.reshape(1,N_cities).repeat(N_cities,axis=0).flatten()\n",
    "    Q[inds0,inds1,inds0,inds1] -= Q[inds0,inds1,inds0,inds1]\n",
    "    Q[:,dims,:,dims] += A\n",
    "    Q[inds1,inds0,inds1,inds0] -= Q[inds1,inds0,inds1,inds0]\n",
    "    b = -np.ones((N_cities,N_cities))*2*A\n",
    "    return Q,b\n",
    "\n",
    "def get_Jh(lengths,A,B):\n",
    "    Q,b = Qubo(lengths,A,B)\n",
    "    Q = torch.tensor(Q.reshape(N_cities**2,N_cities**2),dtype = torch.float32)\n",
    "    b = torch.tensor(b.reshape(N_cities**2),dtype = torch.float32)\n",
    "    Q = 0.5*(Q + Q.t())\n",
    "    J = -0.5*Q\n",
    "    h = -0.5*(Q.sum(1) + b)\n",
    "    h = h.reshape(-1,1)\n",
    "    return J,h\n",
    "\n",
    "def H(Q,b,x):\n",
    "    return torch.einsum('ij,ni,nj->n',Q,x,x) + x@b \n",
    "\n",
    "def int2base(nums,base,N_digits):\n",
    "    nums_cur = torch.clone(nums)\n",
    "    res = torch.empty((nums.shape[0],N_digits))\n",
    "    for i in range(N_digits):\n",
    "        res[:,N_digits-1-i] = torch.remainder(nums_cur,base)\n",
    "        nums_cur = (nums_cur/base).type(torch.long)\n",
    "    return res\n",
    "\n",
    "def get_order(x,lengths,A,B):\n",
    "    Q,b = Qubo(lengths,A,B)\n",
    "    Q = torch.tensor(Q.reshape(N_cities**2,N_cities**2),dtype = torch.float32)\n",
    "    b = torch.tensor(b.reshape(N_cities**2),dtype = torch.float32)\n",
    "    Q = 0.5*(Q + Q.t())\n",
    "    ind_min = torch.argmin(H(Q,b,x.type(torch.float32)))\n",
    "    inds_nonzero = np.nonzero(x[ind_min].reshape(N_cities,N_cities))\n",
    "    inds_order = (inds_nonzero[:,1].sort()[1])\n",
    "    order = inds_nonzero[:,0][inds_order]\n",
    "    return order\n",
    "\n",
    "def get_order_simcim(s_min,N_cities):\n",
    "    inds_nonzero = np.nonzero((0.5*(s_min+1)).reshape(N_cities,N_cities))\n",
    "    inds_order = (inds_nonzero[:,1].sort()[1])\n",
    "    order = inds_nonzero[:,0][inds_order]\n",
    "    return order"
   ]
  },
  {
   "cell_type": "code",
   "execution_count": 152,
   "metadata": {},
   "outputs": [],
   "source": [
    "class Simcim(mli.Interface):\n",
    "    \n",
    "    params_disc = {}\n",
    "    params_cont = {}\n",
    "\n",
    "    params_cont['c_th'] = 1.\n",
    "    params_cont['zeta'] = 1.\n",
    "\n",
    "    params_disc['N'] = 2000\n",
    "    params_disc['attempt_num'] = 1000\n",
    "    params_cont['dt'] = 100.\n",
    "    params_cont['sigma'] = 1\n",
    "    params_cont['alpha'] = 0.9\n",
    "\n",
    "    params_cont['S'] = torch.tensor(1.)\n",
    "    params_cont['D'] = torch.tensor(-0.2)\n",
    "    params_cont['O'] = torch.tensor(0.2)  \n",
    "        \n",
    "    def __init__(self,J,b,device,datatype):\n",
    "        super(Simcim,self).__init__()\n",
    "\n",
    "        self.N = self.params_disc['N']\n",
    "        self.attempt_num = self.params_disc['attempt_num']\n",
    "        self.J = J.type(datatype).to(device)\n",
    "        self.b = b.type(datatype).to(device)\n",
    "        self.Jmax = torch.max(torch.sum(torch.abs(J),1))\n",
    "        self.dim = J.shape[0]\n",
    "        \n",
    "        self.device = device\n",
    "        self.datatype = datatype\n",
    "        \n",
    "    \n",
    "    # amplitude increment\n",
    "    def ampl_inc(self,c,p):\n",
    "        return ((p*c + self.zeta*(torch.mm(self.J,c)+self.b))*self.dt\n",
    "            + (self.sigma*torch.randn((c.size(0),self.attempt_num),dtype=self.datatype).to(self.device)))\n",
    "    \n",
    "    # pump ramp\n",
    "    def pump(self):\n",
    "        i = torch.arange(self.N,dtype=self.datatype).to(self.device)\n",
    "        arg = torch.tensor(self.S,dtype = self.datatype).to(self.device)*(i/self.N-0.5)\n",
    "        return self.Jmax*self.O*(torch.tanh(arg) + self.D )\n",
    "\n",
    "    def pump_lin(self):\n",
    "        t = self.dt*torch.arange(self.N,dtype=self.datatype).to(self.device)\n",
    "        eigs = torch.eig(self.J)[0][:,0]\n",
    "        eig_min = torch.min(eigs)\n",
    "        eig_max = torch.max(eigs)\n",
    "        p = -self.zeta*eig_max + self.zeta*(eig_max-eig_min)/t[-1]*t\n",
    "        return p\n",
    "    \n",
    "    # amplitude initializer \n",
    "    def init_ampl(self):\n",
    "        return torch.zeros((self.dim, self.attempt_num),dtype=self.datatype).to(self.device)\n",
    "    \n",
    "    def bias_sch(self):\n",
    "        return torch.linspace(0,1,self.N,dtype=self.datatype).to(self.device)\n",
    "        \n",
    "    \n",
    "    def tanh(self,c):\n",
    "        return self.c_th*torch.tanh(c)\n",
    "    \n",
    "    # evolution of amplitudes\n",
    "    # N -- number of time iterations\n",
    "    # attempt_num -- number of runs \n",
    "    # J -- coupling matrix\n",
    "    # b -- biases\n",
    "    # O, S, D -- pump parameters\n",
    "    # sigma -- sqrt(std) for random number\n",
    "    # alpha -- momentum parameter\n",
    "    # c_th -- restriction on amplitudes growth\n",
    "    def evolve(self,params_opt):\n",
    "        \n",
    "        for key in params_opt.keys():\n",
    "            self.params_cont[key] = params_opt[key]\n",
    "        \n",
    "        self.dt = self.params_cont['dt']\n",
    "        self.zeta = self.params_cont['zeta']\n",
    "        self.c_th = self.params_cont['c_th']\n",
    "        self.O = self.params_cont['O']\n",
    "        self.D = self.params_cont['D']\n",
    "        self.S = self.params_cont['S']\n",
    "        self.sigma = self.params_cont['sigma']\n",
    "        self.alpha = self.params_cont['alpha']\n",
    "        self.Jmax = torch.max(torch.sum(torch.abs(self.J),1))\n",
    "        self.dim = self.J.shape[0]\n",
    "        \n",
    "    \n",
    "        # choosing an attempt for the amplitude evolution \n",
    "        random_attempt = np.random.randint(self.attempt_num)\n",
    "    \n",
    "        # initializing current amplitudes\n",
    "        c_current = self.init_ampl()\n",
    "    \n",
    "        # initializing full array of amplitudes\n",
    "    #     c_full = torch.zeros(N,dim,attempt_num)\n",
    "    #     c_full[0] = c_current\n",
    "    \n",
    "        # creating the array for evolving amplitudes from random attempt\n",
    "        c_evol = torch.empty((self.dim, self.N),dtype=datatype).to(device)\n",
    "        c_evol[:,0] = c_current[:,random_attempt]\n",
    "    \n",
    "        # define pump array\n",
    "        p = self.pump()\n",
    "#         p = self.pump_lin()\n",
    "        b_ramp = self.bias_sch() \n",
    "    \n",
    "        # define copupling growth\n",
    "    #     zeta = coupling(init_value,final_value,dt,N)\n",
    "    \n",
    "        # initializing moving average of amplitudes increment\n",
    "        dc_momentum = torch.zeros((self.dim, self.attempt_num),dtype=self.datatype).to(self.device)\n",
    "        #free_energy_ar = torch.empty(self.N-1, dtype = self.datatype).to(device)\n",
    "        for i in trange(1,self.N):\n",
    "        \n",
    "            # calculating amplitude increment\n",
    "            dc = self.ampl_inc(c_current,p[i])\n",
    "            dc /= torch.sqrt((dc**2).sum(0)).reshape(1,self.attempt_num)\n",
    "        \n",
    "            # calculating moving average of amplitudes increment\n",
    "            dc_momentum = self.alpha*dc_momentum + (1-self.alpha)*dc\n",
    "        \n",
    "            # calculating possible values of amplitudes on the next step\n",
    "            c1 = c_current + dc_momentum\n",
    "        \n",
    "            # comparing c1 with c_th\n",
    "            th_test = (torch.abs(c1)<self.c_th).type(self.datatype)\n",
    "        \n",
    "            # updating c_current\n",
    "    #         c_current = c_current + th_test*dc_momentum\n",
    "            c_current = th_test*(c_current + dc_momentum) + (1.-th_test)*torch.sign(c_current)*self.c_th\n",
    "    #         c_current = step(c_current + dc_momentum,c_th,device, datatype)\n",
    "    #         c_current = tanh(c1,c_th)\n",
    "        \n",
    "            #updating c_full\n",
    "    #         c_full[i] = torch.tanh(c_full[i-1] + dc_momentum)\n",
    "        \n",
    "            # add amplitude values from random attempt to c_evol array \n",
    "            c_evol[:,i] = c_current[:,random_attempt]\n",
    "            \n",
    "            #s = torch.sign(c_current)\n",
    "            #free_energy_ar[i-1] = self.free_energy(s,self.beta)\n",
    "        \n",
    "        return c_current, c_evol#, free_energy_ar\n",
    "    \n",
    "    def energy_cost(self,params_opt):\n",
    "        c_current, c_evol = self.evolve(params_opt)\n",
    "        s = torch.sign(c_current)\n",
    "        return -0.5*torch.einsum('in,ij,jn->n',s,self.J,s) - torch.einsum('in,ik->n',s,self.b)\n",
    "    \n",
    "    def energy(self,s):\n",
    "        return -0.5*torch.einsum('in,ij,jn->n',s,self.J,s) - torch.einsum('in,ik->n',s,self.b)\n",
    "    \n",
    "    \n",
    "    def get_next_cost_dict(self,params_dict):        \n",
    "        #Get parameters from the provided dictionary\n",
    "        params = params_dict['params']\n",
    "        params_opt = {}\n",
    "        \n",
    "        params_opt['zeta'] = params[0] \n",
    "        params_opt['dt'] = params[1]\n",
    "        params_opt['O'] = params[2]\n",
    "        params_opt['S'] = params[3]\n",
    "        params_opt['D'] = params[4]\n",
    "        \n",
    "        \n",
    "        cost = torch.mean(self.energy_cost(params_opt)).cpu().numpy()\n",
    "        #There is no uncertainty in our result\n",
    "        uncer = 0\n",
    "        #The evaluation will always be a success\n",
    "        bad = False\n",
    "        #Add a small time delay to mimic a real experiment\n",
    "        \n",
    "        #The cost, uncertainty and bad boolean must all be returned as a dictionary\n",
    "        #You can include other variables you want to record as well if you want\n",
    "        cost_dict = {'cost':cost, 'uncer':uncer, 'bad':bad}\n",
    "        return cost_dict\n",
    "    \n",
    "def main(controller_type,interface):\n",
    "#     interface = Simcim(J,h,device,datatype)\n",
    "    \n",
    "    controller = mlc.create_controller(interface,\n",
    "                                       controller_type = controller_type,\n",
    "                                       max_num_runs_without_better_params = 50,\n",
    "                                       max_num_runs = 300,\n",
    "                                       num_params = 5, \n",
    "                                       min_boundary = [0,0,0,0,-2],\n",
    "                                       max_boundary = [10,100,5,10,2])\n",
    "    \n",
    "    controller.optimize()\n",
    "    \n",
    "    \n",
    "    print('Best parameters found:')\n",
    "    print(controller.best_params)\n",
    "    \n",
    "#     mlv.show_all_default_visualizations(controller)\n",
    "    params = controller.best_params\n",
    "    params_opt = {}\n",
    "    params_opt['zeta'] = params[0]\n",
    "    params_opt['dt'] = params[1] \n",
    "    params_opt['O'] = params[2]\n",
    "    params_opt['S'] = params[3]\n",
    "    params_opt['D'] = params[4]\n",
    "    return params_opt\n",
    "    "
   ]
  },
  {
   "cell_type": "code",
   "execution_count": 153,
   "metadata": {},
   "outputs": [],
   "source": [
    "datatype = torch.float32\n",
    "device = 'cuda'"
   ]
  },
  {
   "cell_type": "code",
   "execution_count": 154,
   "metadata": {},
   "outputs": [],
   "source": [
    "lengths_simcim = np.load('lengths_simcim.npy',allow_pickle=True).all()['neural_net']\n",
    "lengths_sa = np.load('lengthts_sa.npy')\n",
    "lengths_ar = np.load('lengths_40cities_40maps.npy')\n",
    "cities = np.load('cities_40cities_40maps.npy')\n",
    "N_cities = cities.shape[1]\n",
    "N_maps = cities.shape[0]\n",
    "order_simcim = np.load('orders40_simcim.npy',allow_pickle=True).all()['neural_net']\n",
    "order_sa = np.load('orders40_sa.npy',allow_pickle=True)\n",
    "n_map = np.random.randint(0,40)"
   ]
  },
  {
   "cell_type": "code",
   "execution_count": 155,
   "metadata": {},
   "outputs": [
    {
     "name": "stderr",
     "output_type": "stream",
     "text": [
      "I0120 17:01:15.023110  1348 interfaces.py:82] Creating interface.\n",
      "C:\\dev\\Anaconda3\\lib\\site-packages\\ipykernel_launcher.py:41: UserWarning: To copy construct from a tensor, it is recommended to use sourceTensor.clone().detach() or sourceTensor.clone().detach().requires_grad_(True), rather than torch.tensor(sourceTensor).\n"
     ]
    },
    {
     "data": {
      "application/vnd.jupyter.widget-view+json": {
       "model_id": "3ee09437ac634545a73785e59785e5e9",
       "version_major": 2,
       "version_minor": 0
      },
      "text/plain": [
       "HBox(children=(FloatProgress(value=0.0, max=1999.0), HTML(value='')))"
      ]
     },
     "metadata": {},
     "output_type": "display_data"
    },
    {
     "name": "stdout",
     "output_type": "stream",
     "text": [
      "\n"
     ]
    },
    {
     "data": {
      "text/plain": [
       "torch.Size([1600, 1000])"
      ]
     },
     "execution_count": 155,
     "metadata": {},
     "output_type": "execute_result"
    }
   ],
   "source": [
    "B = 0.1\n",
    "A = 1.5*B*lengths_ar[n_map].max()\n",
    "J,h = get_Jh(lengths_ar[n_map], A, B)\n",
    "J = J.to(device)\n",
    "h = h.to(device)\n",
    "simcim = Simcim(J, h, device, datatype)\n",
    "c_current, c_evol = simcim.evolve(simcim.params_cont)\n",
    "c_current.shape"
   ]
  },
  {
   "cell_type": "code",
   "execution_count": 156,
   "metadata": {},
   "outputs": [
    {
     "data": {
      "image/png": "[encoded data removed]",
      "text/plain": [
       "<Figure size 432x288 with 1 Axes>"
      ]
     },
     "metadata": {
      "needs_background": "light"
     },
     "output_type": "display_data"
    },
    {
     "data": {
      "image/png": "[encoded data removed]",
      "text/plain": [
       "<Figure size 432x288 with 1 Axes>"
      ]
     },
     "metadata": {
      "needs_background": "light"
     },
     "output_type": "display_data"
    }
   ],
   "source": [
    "for i in range(c_evol.shape[0]):\n",
    "    plt.plot(c_evol[i].cpu().numpy())\n",
    "plt.show()\n",
    "s_cur = torch.sign(c_current)\n",
    "E = energy(J,h,s_cur)\n",
    "plt.hist(E.cpu().numpy())\n",
    "plt.show()"
   ]
  },
  {
   "cell_type": "code",
   "execution_count": 157,
   "metadata": {},
   "outputs": [
    {
     "data": {
      "text/plain": [
       "21.171775817871094"
      ]
     },
     "execution_count": 157,
     "metadata": {},
     "output_type": "execute_result"
    }
   ],
   "source": [
    "lengths_sa[n_map]"
   ]
  },
  {
   "cell_type": "code",
   "execution_count": 158,
   "metadata": {},
   "outputs": [
    {
     "data": {
      "image/png": "[encoded data removed]",
      "text/plain": [
       "<Figure size 576x576 with 1 Axes>"
      ]
     },
     "metadata": {
      "needs_background": "light"
     },
     "output_type": "display_data"
    }
   ],
   "source": [
    "s_min = s_cur[:,torch.argmin(E)]\n",
    "order = get_order_simcim(s_min,N_cities)\n",
    "\n",
    "fig,ax = plt.subplots(figsize = (8,8))\n",
    "plot_cities(ax,cities[n_map],order.cpu().numpy())\n",
    "ax.plot(np.zeros(5),'o',color='white',alpha=0.,label =# 'Длина маршрута '+\n",
    "             str(np.around(length(order,torch.tensor(lengths_ar)[n_map]).numpy(),2)))#+'\\n алгоритм без нормировки')\n",
    "ax.legend(fontsize = 18,loc=1)\n",
    "ax.tick_params(labelsize=18)"
   ]
  },
  {
   "cell_type": "code",
   "execution_count": 74,
   "metadata": {},
   "outputs": [
    {
     "data": {
      "text/plain": [
       "torch.return_types.sort(\n",
       "values=tensor([ 1,  2,  3,  6,  8,  9, 11, 13, 14, 15, 17, 18, 19, 20, 21, 22, 25, 26,\n",
       "        27, 29, 30, 32, 33, 36, 37, 38, 39], device='cuda:0'),\n",
       "indices=tensor([14,  1, 25,  8,  2,  9, 20, 12, 16,  5, 22, 18, 10, 19, 15,  6,  4, 11,\n",
       "        13,  7, 24, 23, 17,  3, 21, 26,  0], device='cuda:0'))"
      ]
     },
     "execution_count": 74,
     "metadata": {},
     "output_type": "execute_result"
    }
   ],
   "source": [
    "order.sort()"
   ]
  },
  {
   "cell_type": "code",
   "execution_count": null,
   "metadata": {},
   "outputs": [],
   "source": []
  },
  {
   "cell_type": "code",
   "execution_count": null,
   "metadata": {
    "scrolled": true
   },
   "outputs": [],
   "source": [
    "N_cities = 40\n",
    "cities,lengths = generate_cities(N_cities)\n",
    "B = 0.1\n",
    "A = 1.5*B*lengths.max()\n",
    "J,h = get_Jh(lengths, A, B)\n",
    "J = J.to(device)\n",
    "h = h.to(device)\n",
    "fig, ax = plt.subplots(figsize=(8,5))\n",
    "plot_cities(ax,cities,np.random.permutation(cities.shape[0]))\n",
    "fig.tight_layout()\n",
    "plt.show()"
   ]
  },
  {
   "cell_type": "code",
   "execution_count": null,
   "metadata": {},
   "outputs": [],
   "source": [
    "N_maps = 40\n",
    "N_cities = 40\n",
    "cities = np.empty((N_maps,N_cities,2))\n",
    "lengths = np.empty((N_maps,N_cities,N_cities))\n",
    "for i in range(N_maps):\n",
    "    cities_cur,lengths_cur = generate_cities(N_cities)\n",
    "#     B = 0.1\n",
    "#     A = 1.5*B*lengths.max()\n",
    "#     J_cur,h_cur = get_Jh(lengths, A, B)\n",
    "    cities[i] = cities_cur\n",
    "    lengths[i] = lengths_cur\n",
    "np.save('cities_'+str(N_cities)+'cities_'+str(N_maps)+'maps',cities)  \n",
    "np.save('lengths_'+str(N_cities)+'cities_'+str(N_maps)+'maps',lengths)"
   ]
  },
  {
   "cell_type": "code",
   "execution_count": null,
   "metadata": {},
   "outputs": [],
   "source": [
    "N_maps = 40\n",
    "N_cities = 40\n",
    "# keys = ['gaussian_process', 'neural_net', 'differential_evolution', 'nelder_mead', 'random']\n",
    "keys = ['neural_net']\n",
    "params_opt = {}\n",
    "lengths = np.load('lengths_40cities_40maps.npy')\n",
    "for controller_type in keys:\n",
    "    params_opt[controller_type] = []\n",
    "    for i in range(N_maps):\n",
    "        B = 0.1\n",
    "        A = 1.5*B*lengths[i].max()\n",
    "        J,h = get_Jh(lengths[i], A, B)\n",
    "        J = J.to(device)\n",
    "        h = h.to(device)\n",
    "        simcim = Simcim(J, h, device, datatype)\n",
    "        params_opt[controller_type].append(main(controller_type,simcim))\n",
    "np.save('params_opt_nn'+str(N_cities)+'cities_'+str(N_maps)+'maps',params_opt)"
   ]
  },
  {
   "cell_type": "code",
   "execution_count": null,
   "metadata": {},
   "outputs": [],
   "source": [
    "np.save('params_opt_2'+str(N_cities)+'cities_'+str(N_maps)+'maps',params_opt)\n"
   ]
  },
  {
   "cell_type": "code",
   "execution_count": null,
   "metadata": {},
   "outputs": [],
   "source": [
    "for key in params_opt.keys():\n",
    "    print(len(params_opt[key]))"
   ]
  },
  {
   "cell_type": "code",
   "execution_count": null,
   "metadata": {},
   "outputs": [],
   "source": [
    "# params_opt = {}\n",
    "# params_opt_cur = np.load('params_opt_40cities_40maps.npy',allow_pickle=True).all()\n",
    "# params_opt['gaussian_process'] = params_opt_cur['gaussian_process']\n",
    "# params_opt_cur = np.load('params_opt_nn40cities_40maps.npy',allow_pickle=True).all()\n",
    "# params_opt['neural_net'] = params_opt_cur['neural_net']\n",
    "# params_opt_cur = np.load('params_opt_de_nm_r40cities_40maps.npy',allow_pickle=True).all()\n",
    "# for key in params_opt_cur.keys():\n",
    "#     params_opt[key] = params_opt_cur[key]\n",
    "\n",
    "# np.save('params_opt_'+str(N_cities)+'cities_'+str(N_maps)+'maps',params_opt)"
   ]
  },
  {
   "cell_type": "code",
   "execution_count": 172,
   "metadata": {},
   "outputs": [],
   "source": [
    "cities40 = np.load('cities_40cities_40maps.npy')\n",
    "lengths40 = np.load('lengths_40cities_40maps.npy')\n",
    "params_opt = np.load('params_opt_40cities_40maps.npy',allow_pickle=True).all()"
   ]
  },
  {
   "cell_type": "code",
   "execution_count": 169,
   "metadata": {},
   "outputs": [
    {
     "name": "stdout",
     "output_type": "stream",
     "text": [
      "manual\n"
     ]
    },
    {
     "data": {
      "application/vnd.jupyter.widget-view+json": {
       "model_id": "e1e99e60573f4a1cad9fa6ffedb84f18",
       "version_major": 2,
       "version_minor": 0
      },
      "text/plain": [
       "HBox(children=(FloatProgress(value=0.0, max=40.0), HTML(value='')))"
      ]
     },
     "metadata": {},
     "output_type": "display_data"
    },
    {
     "name": "stderr",
     "output_type": "stream",
     "text": [
      "I0120 17:06:43.925455  1348 interfaces.py:82] Creating interface.\n",
      "C:\\dev\\Anaconda3\\lib\\site-packages\\ipykernel_launcher.py:41: UserWarning: To copy construct from a tensor, it is recommended to use sourceTensor.clone().detach() or sourceTensor.clone().detach().requires_grad_(True), rather than torch.tensor(sourceTensor).\n"
     ]
    },
    {
     "data": {
      "application/vnd.jupyter.widget-view+json": {
       "model_id": "43a2ff69a0b54b998647768183e7bb91",
       "version_major": 2,
       "version_minor": 0
      },
      "text/plain": [
       "HBox(children=(FloatProgress(value=0.0, max=1999.0), HTML(value='')))"
      ]
     },
     "metadata": {},
     "output_type": "display_data"
    },
    {
     "name": "stderr",
     "output_type": "stream",
     "text": [
      "I0120 17:07:40.460619  1348 interfaces.py:82] Creating interface.\n"
     ]
    },
    {
     "name": "stdout",
     "output_type": "stream",
     "text": [
      "\n"
     ]
    },
    {
     "data": {
      "application/vnd.jupyter.widget-view+json": {
       "model_id": "8f68b3f42ab3499d8e88e8ab5fafce66",
       "version_major": 2,
       "version_minor": 0
      },
      "text/plain": [
       "HBox(children=(FloatProgress(value=0.0, max=1999.0), HTML(value='')))"
      ]
     },
     "metadata": {},
     "output_type": "display_data"
    },
    {
     "name": "stderr",
     "output_type": "stream",
     "text": [
      "I0120 17:08:22.783448  1348 interfaces.py:82] Creating interface.\n"
     ]
    },
    {
     "name": "stdout",
     "output_type": "stream",
     "text": [
      "\n"
     ]
    },
    {
     "data": {
      "application/vnd.jupyter.widget-view+json": {
       "model_id": "e1009ee497b14bc1b272265a06c5b2d3",
       "version_major": 2,
       "version_minor": 0
      },
      "text/plain": [
       "HBox(children=(FloatProgress(value=0.0, max=1999.0), HTML(value='')))"
      ]
     },
     "metadata": {},
     "output_type": "display_data"
    },
    {
     "name": "stderr",
     "output_type": "stream",
     "text": [
      "I0120 17:09:05.133206  1348 interfaces.py:82] Creating interface.\n"
     ]
    },
    {
     "name": "stdout",
     "output_type": "stream",
     "text": [
      "\n"
     ]
    },
    {
     "data": {
      "application/vnd.jupyter.widget-view+json": {
       "model_id": "882df48ca2d941258f945abaee817d5f",
       "version_major": 2,
       "version_minor": 0
      },
      "text/plain": [
       "HBox(children=(FloatProgress(value=0.0, max=1999.0), HTML(value='')))"
      ]
     },
     "metadata": {},
     "output_type": "display_data"
    },
    {
     "name": "stderr",
     "output_type": "stream",
     "text": [
      "I0120 17:09:47.068073  1348 interfaces.py:82] Creating interface.\n"
     ]
    },
    {
     "name": "stdout",
     "output_type": "stream",
     "text": [
      "\n"
     ]
    },
    {
     "data": {
      "application/vnd.jupyter.widget-view+json": {
       "model_id": "4ce4ccae4f0349ab906e7cc489d0677d",
       "version_major": 2,
       "version_minor": 0
      },
      "text/plain": [
       "HBox(children=(FloatProgress(value=0.0, max=1999.0), HTML(value='')))"
      ]
     },
     "metadata": {},
     "output_type": "display_data"
    },
    {
     "name": "stderr",
     "output_type": "stream",
     "text": [
      "I0120 17:10:28.978007  1348 interfaces.py:82] Creating interface.\n"
     ]
    },
    {
     "name": "stdout",
     "output_type": "stream",
     "text": [
      "\n"
     ]
    },
    {
     "data": {
      "application/vnd.jupyter.widget-view+json": {
       "model_id": "f079974707a449708b11f1fc10694097",
       "version_major": 2,
       "version_minor": 0
      },
      "text/plain": [
       "HBox(children=(FloatProgress(value=0.0, max=1999.0), HTML(value='')))"
      ]
     },
     "metadata": {},
     "output_type": "display_data"
    },
    {
     "name": "stderr",
     "output_type": "stream",
     "text": [
      "I0120 17:11:10.932836  1348 interfaces.py:82] Creating interface.\n"
     ]
    },
    {
     "name": "stdout",
     "output_type": "stream",
     "text": [
      "\n"
     ]
    },
    {
     "data": {
      "application/vnd.jupyter.widget-view+json": {
       "model_id": "caac26951f634c64b2014dfd0f45aae3",
       "version_major": 2,
       "version_minor": 0
      },
      "text/plain": [
       "HBox(children=(FloatProgress(value=0.0, max=1999.0), HTML(value='')))"
      ]
     },
     "metadata": {},
     "output_type": "display_data"
    },
    {
     "name": "stderr",
     "output_type": "stream",
     "text": [
      "I0120 17:11:52.999334  1348 interfaces.py:82] Creating interface.\n"
     ]
    },
    {
     "name": "stdout",
     "output_type": "stream",
     "text": [
      "\n"
     ]
    },
    {
     "data": {
      "application/vnd.jupyter.widget-view+json": {
       "model_id": "76fce68849ca45958e3b4df94eaa8013",
       "version_major": 2,
       "version_minor": 0
      },
      "text/plain": [
       "HBox(children=(FloatProgress(value=0.0, max=1999.0), HTML(value='')))"
      ]
     },
     "metadata": {},
     "output_type": "display_data"
    },
    {
     "name": "stderr",
     "output_type": "stream",
     "text": [
      "I0120 17:12:35.039000  1348 interfaces.py:82] Creating interface.\n"
     ]
    },
    {
     "name": "stdout",
     "output_type": "stream",
     "text": [
      "\n"
     ]
    },
    {
     "data": {
      "application/vnd.jupyter.widget-view+json": {
       "model_id": "15fefd15b13541cdaefe772adecce15f",
       "version_major": 2,
       "version_minor": 0
      },
      "text/plain": [
       "HBox(children=(FloatProgress(value=0.0, max=1999.0), HTML(value='')))"
      ]
     },
     "metadata": {},
     "output_type": "display_data"
    },
    {
     "name": "stderr",
     "output_type": "stream",
     "text": [
      "I0120 17:13:17.027724  1348 interfaces.py:82] Creating interface.\n"
     ]
    },
    {
     "name": "stdout",
     "output_type": "stream",
     "text": [
      "\n"
     ]
    },
    {
     "data": {
      "application/vnd.jupyter.widget-view+json": {
       "model_id": "f58e2dcb8008423fb1ac35f1f0719a46",
       "version_major": 2,
       "version_minor": 0
      },
      "text/plain": [
       "HBox(children=(FloatProgress(value=0.0, max=1999.0), HTML(value='')))"
      ]
     },
     "metadata": {},
     "output_type": "display_data"
    },
    {
     "name": "stderr",
     "output_type": "stream",
     "text": [
      "I0120 17:13:59.332601  1348 interfaces.py:82] Creating interface.\n"
     ]
    },
    {
     "name": "stdout",
     "output_type": "stream",
     "text": [
      "\n"
     ]
    },
    {
     "data": {
      "application/vnd.jupyter.widget-view+json": {
       "model_id": "dd27345beb29441190cb48834e0a00c8",
       "version_major": 2,
       "version_minor": 0
      },
      "text/plain": [
       "HBox(children=(FloatProgress(value=0.0, max=1999.0), HTML(value='')))"
      ]
     },
     "metadata": {},
     "output_type": "display_data"
    },
    {
     "name": "stderr",
     "output_type": "stream",
     "text": [
      "I0120 17:14:41.279436  1348 interfaces.py:82] Creating interface.\n"
     ]
    },
    {
     "name": "stdout",
     "output_type": "stream",
     "text": [
      "\n"
     ]
    },
    {
     "data": {
      "application/vnd.jupyter.widget-view+json": {
       "model_id": "0622323451ed4492b88d41ae1530c028",
       "version_major": 2,
       "version_minor": 0
      },
      "text/plain": [
       "HBox(children=(FloatProgress(value=0.0, max=1999.0), HTML(value='')))"
      ]
     },
     "metadata": {},
     "output_type": "display_data"
    },
    {
     "name": "stderr",
     "output_type": "stream",
     "text": [
      "I0120 17:15:23.410777  1348 interfaces.py:82] Creating interface.\n"
     ]
    },
    {
     "name": "stdout",
     "output_type": "stream",
     "text": [
      "\n"
     ]
    },
    {
     "data": {
      "application/vnd.jupyter.widget-view+json": {
       "model_id": "673cc057adb147d0aff83d9bdf2ffd25",
       "version_major": 2,
       "version_minor": 0
      },
      "text/plain": [
       "HBox(children=(FloatProgress(value=0.0, max=1999.0), HTML(value='')))"
      ]
     },
     "metadata": {},
     "output_type": "display_data"
    },
    {
     "name": "stderr",
     "output_type": "stream",
     "text": [
      "I0120 17:16:05.281815  1348 interfaces.py:82] Creating interface.\n"
     ]
    },
    {
     "name": "stdout",
     "output_type": "stream",
     "text": [
      "\n"
     ]
    },
    {
     "data": {
      "application/vnd.jupyter.widget-view+json": {
       "model_id": "e880759a08aa4cf4b44f11ff0fb3ee6b",
       "version_major": 2,
       "version_minor": 0
      },
      "text/plain": [
       "HBox(children=(FloatProgress(value=0.0, max=1999.0), HTML(value='')))"
      ]
     },
     "metadata": {},
     "output_type": "display_data"
    },
    {
     "name": "stderr",
     "output_type": "stream",
     "text": [
      "I0120 17:16:47.215684  1348 interfaces.py:82] Creating interface.\n"
     ]
    },
    {
     "name": "stdout",
     "output_type": "stream",
     "text": [
      "\n"
     ]
    },
    {
     "data": {
      "application/vnd.jupyter.widget-view+json": {
       "model_id": "3a2c2a8d7c6d4c2e8cc6978954399449",
       "version_major": 2,
       "version_minor": 0
      },
      "text/plain": [
       "HBox(children=(FloatProgress(value=0.0, max=1999.0), HTML(value='')))"
      ]
     },
     "metadata": {},
     "output_type": "display_data"
    },
    {
     "name": "stderr",
     "output_type": "stream",
     "text": [
      "I0120 17:17:28.346755  1348 interfaces.py:82] Creating interface.\n"
     ]
    },
    {
     "name": "stdout",
     "output_type": "stream",
     "text": [
      "\n"
     ]
    },
    {
     "data": {
      "application/vnd.jupyter.widget-view+json": {
       "model_id": "ab907a3caa224050a7af8e24effcf53e",
       "version_major": 2,
       "version_minor": 0
      },
      "text/plain": [
       "HBox(children=(FloatProgress(value=0.0, max=1999.0), HTML(value='')))"
      ]
     },
     "metadata": {},
     "output_type": "display_data"
    },
    {
     "name": "stderr",
     "output_type": "stream",
     "text": [
      "I0120 17:18:09.061882  1348 interfaces.py:82] Creating interface.\n"
     ]
    },
    {
     "name": "stdout",
     "output_type": "stream",
     "text": [
      "\n"
     ]
    },
    {
     "data": {
      "application/vnd.jupyter.widget-view+json": {
       "model_id": "38b9a40031144e17a2f9fccc014f0d72",
       "version_major": 2,
       "version_minor": 0
      },
      "text/plain": [
       "HBox(children=(FloatProgress(value=0.0, max=1999.0), HTML(value='')))"
      ]
     },
     "metadata": {},
     "output_type": "display_data"
    },
    {
     "name": "stderr",
     "output_type": "stream",
     "text": [
      "I0120 17:18:49.687251  1348 interfaces.py:82] Creating interface.\n"
     ]
    },
    {
     "name": "stdout",
     "output_type": "stream",
     "text": [
      "\n"
     ]
    },
    {
     "data": {
      "application/vnd.jupyter.widget-view+json": {
       "model_id": "252806f580bc4a5baa12920516a8ac6e",
       "version_major": 2,
       "version_minor": 0
      },
      "text/plain": [
       "HBox(children=(FloatProgress(value=0.0, max=1999.0), HTML(value='')))"
      ]
     },
     "metadata": {},
     "output_type": "display_data"
    },
    {
     "name": "stderr",
     "output_type": "stream",
     "text": [
      "I0120 17:19:30.438322  1348 interfaces.py:82] Creating interface.\n"
     ]
    },
    {
     "name": "stdout",
     "output_type": "stream",
     "text": [
      "\n"
     ]
    },
    {
     "data": {
      "application/vnd.jupyter.widget-view+json": {
       "model_id": "c3313ae28e8c471095bbebaafd7d60a8",
       "version_major": 2,
       "version_minor": 0
      },
      "text/plain": [
       "HBox(children=(FloatProgress(value=0.0, max=1999.0), HTML(value='')))"
      ]
     },
     "metadata": {},
     "output_type": "display_data"
    },
    {
     "name": "stderr",
     "output_type": "stream",
     "text": [
      "I0120 17:20:12.633691  1348 interfaces.py:82] Creating interface.\n"
     ]
    },
    {
     "name": "stdout",
     "output_type": "stream",
     "text": [
      "\n"
     ]
    },
    {
     "data": {
      "application/vnd.jupyter.widget-view+json": {
       "model_id": "efaa05bc670a44659a445f4a6b74accd",
       "version_major": 2,
       "version_minor": 0
      },
      "text/plain": [
       "HBox(children=(FloatProgress(value=0.0, max=1999.0), HTML(value='')))"
      ]
     },
     "metadata": {},
     "output_type": "display_data"
    },
    {
     "name": "stderr",
     "output_type": "stream",
     "text": [
      "I0120 17:20:56.525828  1348 interfaces.py:82] Creating interface.\n"
     ]
    },
    {
     "name": "stdout",
     "output_type": "stream",
     "text": [
      "\n"
     ]
    },
    {
     "data": {
      "application/vnd.jupyter.widget-view+json": {
       "model_id": "eceb1c1497484a16b09287f7f22c14fb",
       "version_major": 2,
       "version_minor": 0
      },
      "text/plain": [
       "HBox(children=(FloatProgress(value=0.0, max=1999.0), HTML(value='')))"
      ]
     },
     "metadata": {},
     "output_type": "display_data"
    },
    {
     "name": "stderr",
     "output_type": "stream",
     "text": [
      "I0120 17:21:40.201663  1348 interfaces.py:82] Creating interface.\n"
     ]
    },
    {
     "name": "stdout",
     "output_type": "stream",
     "text": [
      "\n"
     ]
    },
    {
     "data": {
      "application/vnd.jupyter.widget-view+json": {
       "model_id": "15e52cd598da4791bae79f99572d8e1c",
       "version_major": 2,
       "version_minor": 0
      },
      "text/plain": [
       "HBox(children=(FloatProgress(value=0.0, max=1999.0), HTML(value='')))"
      ]
     },
     "metadata": {},
     "output_type": "display_data"
    },
    {
     "name": "stderr",
     "output_type": "stream",
     "text": [
      "I0120 17:22:23.818938  1348 interfaces.py:82] Creating interface.\n"
     ]
    },
    {
     "name": "stdout",
     "output_type": "stream",
     "text": [
      "\n"
     ]
    },
    {
     "data": {
      "application/vnd.jupyter.widget-view+json": {
       "model_id": "0eccc1f35e1c47e49d07b42bbe59f0fa",
       "version_major": 2,
       "version_minor": 0
      },
      "text/plain": [
       "HBox(children=(FloatProgress(value=0.0, max=1999.0), HTML(value='')))"
      ]
     },
     "metadata": {},
     "output_type": "display_data"
    },
    {
     "name": "stderr",
     "output_type": "stream",
     "text": [
      "I0120 17:23:06.884799  1348 interfaces.py:82] Creating interface.\n"
     ]
    },
    {
     "name": "stdout",
     "output_type": "stream",
     "text": [
      "\n"
     ]
    },
    {
     "data": {
      "application/vnd.jupyter.widget-view+json": {
       "model_id": "767b0662d8c34a77b759411a7dc525b2",
       "version_major": 2,
       "version_minor": 0
      },
      "text/plain": [
       "HBox(children=(FloatProgress(value=0.0, max=1999.0), HTML(value='')))"
      ]
     },
     "metadata": {},
     "output_type": "display_data"
    },
    {
     "name": "stderr",
     "output_type": "stream",
     "text": [
      "I0120 17:23:49.924715  1348 interfaces.py:82] Creating interface.\n"
     ]
    },
    {
     "name": "stdout",
     "output_type": "stream",
     "text": [
      "\n"
     ]
    },
    {
     "data": {
      "application/vnd.jupyter.widget-view+json": {
       "model_id": "c362059ff56247d28609a6b02a6c81e2",
       "version_major": 2,
       "version_minor": 0
      },
      "text/plain": [
       "HBox(children=(FloatProgress(value=0.0, max=1999.0), HTML(value='')))"
      ]
     },
     "metadata": {},
     "output_type": "display_data"
    },
    {
     "name": "stderr",
     "output_type": "stream",
     "text": [
      "I0120 17:24:32.854993  1348 interfaces.py:82] Creating interface.\n"
     ]
    },
    {
     "name": "stdout",
     "output_type": "stream",
     "text": [
      "\n"
     ]
    },
    {
     "data": {
      "application/vnd.jupyter.widget-view+json": {
       "model_id": "c1ef240135994e81a39a61c56569196f",
       "version_major": 2,
       "version_minor": 0
      },
      "text/plain": [
       "HBox(children=(FloatProgress(value=0.0, max=1999.0), HTML(value='')))"
      ]
     },
     "metadata": {},
     "output_type": "display_data"
    },
    {
     "name": "stderr",
     "output_type": "stream",
     "text": [
      "I0120 17:25:15.862026  1348 interfaces.py:82] Creating interface.\n"
     ]
    },
    {
     "name": "stdout",
     "output_type": "stream",
     "text": [
      "\n"
     ]
    },
    {
     "data": {
      "application/vnd.jupyter.widget-view+json": {
       "model_id": "7cc4f3fe47c747d6af8bb44eac607f9b",
       "version_major": 2,
       "version_minor": 0
      },
      "text/plain": [
       "HBox(children=(FloatProgress(value=0.0, max=1999.0), HTML(value='')))"
      ]
     },
     "metadata": {},
     "output_type": "display_data"
    },
    {
     "name": "stderr",
     "output_type": "stream",
     "text": [
      "I0120 17:25:58.971986  1348 interfaces.py:82] Creating interface.\n"
     ]
    },
    {
     "name": "stdout",
     "output_type": "stream",
     "text": [
      "\n"
     ]
    },
    {
     "data": {
      "application/vnd.jupyter.widget-view+json": {
       "model_id": "1d3bbb1d632b444ba91fb0a7960a8343",
       "version_major": 2,
       "version_minor": 0
      },
      "text/plain": [
       "HBox(children=(FloatProgress(value=0.0, max=1999.0), HTML(value='')))"
      ]
     },
     "metadata": {},
     "output_type": "display_data"
    },
    {
     "name": "stderr",
     "output_type": "stream",
     "text": [
      "I0120 17:26:42.669993  1348 interfaces.py:82] Creating interface.\n"
     ]
    },
    {
     "name": "stdout",
     "output_type": "stream",
     "text": [
      "\n"
     ]
    },
    {
     "data": {
      "application/vnd.jupyter.widget-view+json": {
       "model_id": "de7c4f56d2634b2580910908ce5632fe",
       "version_major": 2,
       "version_minor": 0
      },
      "text/plain": [
       "HBox(children=(FloatProgress(value=0.0, max=1999.0), HTML(value='')))"
      ]
     },
     "metadata": {},
     "output_type": "display_data"
    },
    {
     "name": "stderr",
     "output_type": "stream",
     "text": [
      "I0120 17:27:26.722926  1348 interfaces.py:82] Creating interface.\n"
     ]
    },
    {
     "name": "stdout",
     "output_type": "stream",
     "text": [
      "\n"
     ]
    },
    {
     "data": {
      "application/vnd.jupyter.widget-view+json": {
       "model_id": "6112d1e7fa214cc3b357057ef0945b57",
       "version_major": 2,
       "version_minor": 0
      },
      "text/plain": [
       "HBox(children=(FloatProgress(value=0.0, max=1999.0), HTML(value='')))"
      ]
     },
     "metadata": {},
     "output_type": "display_data"
    },
    {
     "name": "stderr",
     "output_type": "stream",
     "text": [
      "I0120 17:28:10.040481  1348 interfaces.py:82] Creating interface.\n"
     ]
    },
    {
     "name": "stdout",
     "output_type": "stream",
     "text": [
      "\n"
     ]
    },
    {
     "data": {
      "application/vnd.jupyter.widget-view+json": {
       "model_id": "3c789534e3ee430b8edcb404a9a63461",
       "version_major": 2,
       "version_minor": 0
      },
      "text/plain": [
       "HBox(children=(FloatProgress(value=0.0, max=1999.0), HTML(value='')))"
      ]
     },
     "metadata": {},
     "output_type": "display_data"
    },
    {
     "name": "stderr",
     "output_type": "stream",
     "text": [
      "I0120 17:28:52.124973  1348 interfaces.py:82] Creating interface.\n"
     ]
    },
    {
     "name": "stdout",
     "output_type": "stream",
     "text": [
      "\n"
     ]
    },
    {
     "data": {
      "application/vnd.jupyter.widget-view+json": {
       "model_id": "80090c4fbf7548a098679fe7f4a6f8e7",
       "version_major": 2,
       "version_minor": 0
      },
      "text/plain": [
       "HBox(children=(FloatProgress(value=0.0, max=1999.0), HTML(value='')))"
      ]
     },
     "metadata": {},
     "output_type": "display_data"
    },
    {
     "name": "stderr",
     "output_type": "stream",
     "text": [
      "I0120 17:29:34.324110  1348 interfaces.py:82] Creating interface.\n"
     ]
    },
    {
     "name": "stdout",
     "output_type": "stream",
     "text": [
      "\n"
     ]
    },
    {
     "data": {
      "application/vnd.jupyter.widget-view+json": {
       "model_id": "7394824229f54f83905ea2e26fba46a3",
       "version_major": 2,
       "version_minor": 0
      },
      "text/plain": [
       "HBox(children=(FloatProgress(value=0.0, max=1999.0), HTML(value='')))"
      ]
     },
     "metadata": {},
     "output_type": "display_data"
    },
    {
     "name": "stderr",
     "output_type": "stream",
     "text": [
      "I0120 17:30:16.776591  1348 interfaces.py:82] Creating interface.\n"
     ]
    },
    {
     "name": "stdout",
     "output_type": "stream",
     "text": [
      "\n"
     ]
    },
    {
     "data": {
      "application/vnd.jupyter.widget-view+json": {
       "model_id": "7b5f14775e4b42ae91d27d695c1b4359",
       "version_major": 2,
       "version_minor": 0
      },
      "text/plain": [
       "HBox(children=(FloatProgress(value=0.0, max=1999.0), HTML(value='')))"
      ]
     },
     "metadata": {},
     "output_type": "display_data"
    },
    {
     "name": "stderr",
     "output_type": "stream",
     "text": [
      "I0120 17:30:58.775292  1348 interfaces.py:82] Creating interface.\n"
     ]
    },
    {
     "name": "stdout",
     "output_type": "stream",
     "text": [
      "\n"
     ]
    },
    {
     "data": {
      "application/vnd.jupyter.widget-view+json": {
       "model_id": "ca1fa26fc1f544d3813d639c6f5e8c9d",
       "version_major": 2,
       "version_minor": 0
      },
      "text/plain": [
       "HBox(children=(FloatProgress(value=0.0, max=1999.0), HTML(value='')))"
      ]
     },
     "metadata": {},
     "output_type": "display_data"
    },
    {
     "name": "stderr",
     "output_type": "stream",
     "text": [
      "I0120 17:31:40.793931  1348 interfaces.py:82] Creating interface.\n"
     ]
    },
    {
     "name": "stdout",
     "output_type": "stream",
     "text": [
      "\n"
     ]
    },
    {
     "data": {
      "application/vnd.jupyter.widget-view+json": {
       "model_id": "74f6538e251d4c43b24d9463af6a6c07",
       "version_major": 2,
       "version_minor": 0
      },
      "text/plain": [
       "HBox(children=(FloatProgress(value=0.0, max=1999.0), HTML(value='')))"
      ]
     },
     "metadata": {},
     "output_type": "display_data"
    },
    {
     "name": "stderr",
     "output_type": "stream",
     "text": [
      "I0120 17:32:22.923277  1348 interfaces.py:82] Creating interface.\n"
     ]
    },
    {
     "name": "stdout",
     "output_type": "stream",
     "text": [
      "\n"
     ]
    },
    {
     "data": {
      "application/vnd.jupyter.widget-view+json": {
       "model_id": "940c42e4236943ad978635b706923bb0",
       "version_major": 2,
       "version_minor": 0
      },
      "text/plain": [
       "HBox(children=(FloatProgress(value=0.0, max=1999.0), HTML(value='')))"
      ]
     },
     "metadata": {},
     "output_type": "display_data"
    },
    {
     "name": "stderr",
     "output_type": "stream",
     "text": [
      "I0120 17:33:06.219504  1348 interfaces.py:82] Creating interface.\n"
     ]
    },
    {
     "name": "stdout",
     "output_type": "stream",
     "text": [
      "\n"
     ]
    },
    {
     "data": {
      "application/vnd.jupyter.widget-view+json": {
       "model_id": "7fa0e209f35a485d9a524a7f7d2bb0ad",
       "version_major": 2,
       "version_minor": 0
      },
      "text/plain": [
       "HBox(children=(FloatProgress(value=0.0, max=1999.0), HTML(value='')))"
      ]
     },
     "metadata": {},
     "output_type": "display_data"
    },
    {
     "name": "stderr",
     "output_type": "stream",
     "text": [
      "I0120 17:33:50.525460  1348 interfaces.py:82] Creating interface.\n"
     ]
    },
    {
     "name": "stdout",
     "output_type": "stream",
     "text": [
      "\n"
     ]
    },
    {
     "data": {
      "application/vnd.jupyter.widget-view+json": {
       "model_id": "fd7cee65a3de45b79bdb1271da02cbdb",
       "version_major": 2,
       "version_minor": 0
      },
      "text/plain": [
       "HBox(children=(FloatProgress(value=0.0, max=1999.0), HTML(value='')))"
      ]
     },
     "metadata": {},
     "output_type": "display_data"
    },
    {
     "name": "stderr",
     "output_type": "stream",
     "text": [
      "I0120 17:34:34.256292  1348 interfaces.py:82] Creating interface.\n"
     ]
    },
    {
     "name": "stdout",
     "output_type": "stream",
     "text": [
      "\n"
     ]
    },
    {
     "data": {
      "application/vnd.jupyter.widget-view+json": {
       "model_id": "96dd9be9fb7f4f86b725414d31548649",
       "version_major": 2,
       "version_minor": 0
      },
      "text/plain": [
       "HBox(children=(FloatProgress(value=0.0, max=1999.0), HTML(value='')))"
      ]
     },
     "metadata": {},
     "output_type": "display_data"
    },
    {
     "name": "stdout",
     "output_type": "stream",
     "text": [
      "\n",
      "\n"
     ]
    }
   ],
   "source": [
    "orders40_simcim = np.load('orders40_simcim.npy',allow_pickle=True).all()\n",
    "N_cities = 40\n",
    "for key in ['manual']:\n",
    "    print(key)\n",
    "    orders40_simcim[key] = []\n",
    "    for i in trange(N_cities):\n",
    "        B = 0.1\n",
    "        A = 1.5*B*lengths40[i].max()\n",
    "        J,h = get_Jh(lengths40[i], A, B)\n",
    "        J = J.to(device)\n",
    "        h = h.to(device)\n",
    "        simcim = Simcim(J, h, device, datatype)\n",
    "        simcim.params_disc['attempt_num'] = 1500\n",
    "        c_current, c_evol = simcim.evolve(simcim.params_cont)\n",
    "        s_cur = torch.sign(c_current)\n",
    "        E = energy(J,h,s_cur)\n",
    "        s_min = s_cur[:,torch.argmin(E)]\n",
    "        order_cur = get_order_simcim(s_min,N_cities).cpu().numpy()\n",
    "        orders40_simcim[key].append(order_cur)"
   ]
  },
  {
   "cell_type": "code",
   "execution_count": 180,
   "metadata": {},
   "outputs": [],
   "source": [
    "# np.save('orders40_simcim',orders40_simcim)\n",
    "orders40_simcim_nn = np.load('orders40_simcim_nn.npy',allow_pickle=True).all()\n",
    "for key in orders40_simcim_nn.keys():\n",
    "    orders40_simcim[key] = orders40_simcim_nn[key]"
   ]
  },
  {
   "cell_type": "code",
   "execution_count": 184,
   "metadata": {},
   "outputs": [
    {
     "data": {
      "text/plain": [
       "{'neural_net': array([30.33194678, 27.24072363, 22.86035628, 23.89119604, 24.03923403,\n",
       "        23.76038325, 21.54382013, 25.41177901, 25.7556388 , 24.1519312 ,\n",
       "        21.47087274, 20.48074631, 22.24521615, 22.81455476, 22.66562502,\n",
       "        28.50986647, 21.0182977 , 22.03512473, 21.07684792, 23.41676668,\n",
       "        21.24297131, 20.85854663, 23.47409914, 21.49144639, 18.0258893 ,\n",
       "        23.94531705, 20.43383307, 18.22045454, 34.40573993, 18.07486564,\n",
       "        21.28979132, 25.09093808, 24.17847104, 22.0704949 , 23.9292006 ,\n",
       "        19.32839562, 22.66566235, 25.91887364, 25.65271392, 22.22464164]),\n",
       " 'manual': array([26.22047138, 27.10830302, 22.14186271, 24.11452254, 24.99166761,\n",
       "        24.13626661, 22.47415585, 23.346214  , 26.78025848, 25.90292729,\n",
       "        23.84294201, 22.52670738, 23.03763091, 25.70422693, 24.23204335,\n",
       "        23.31580139, 23.06043106, 22.70325389, 22.00394076, 26.51974762,\n",
       "        22.60546163, 21.53159289, 23.44421606, 22.7444884 , 19.08618812,\n",
       "        24.12170054, 21.69560701, 19.70988828, 26.90704361, 18.81024836,\n",
       "        21.49626543, 25.67471971, 24.21396337, 23.61429268, 24.52648821,\n",
       "        20.64942405, 22.50657242, 26.76505432, 25.27461547, 22.70688742])}"
      ]
     },
     "execution_count": 184,
     "metadata": {},
     "output_type": "execute_result"
    }
   ],
   "source": [
    "lengths_simcim = {}\n",
    "for key in orders40_simcim.keys():\n",
    "    lengths_simcim[key] = []\n",
    "    for i in range(40):\n",
    "        lengths_simcim[key].append(length(torch.tensor(orders40_simcim[key][i]),torch.tensor(lengths40[i])).numpy())\n",
    "    lengths_simcim[key] = np.array(lengths_simcim[key])\n",
    "np.save('lengths_simcim',lengths_simcim)\n",
    "lengths_simcim"
   ]
  },
  {
   "cell_type": "code",
   "execution_count": 185,
   "metadata": {},
   "outputs": [
    {
     "data": {
      "text/plain": [
       "<matplotlib.legend.Legend at 0x2664254be80>"
      ]
     },
     "execution_count": 185,
     "metadata": {},
     "output_type": "execute_result"
    },
    {
     "data": {
      "image/png": "[encoded data removed]",
      "text/plain": [
       "<Figure size 432x288 with 1 Axes>"
      ]
     },
     "metadata": {
      "needs_background": "light"
     },
     "output_type": "display_data"
    }
   ],
   "source": [
    "plt.plot(lengths_simcim['neural_net'],'.',label ='NN')\n",
    "plt.plot(lengths_simcim['manual'],'.',label ='Manual')\n",
    "plt.legend()"
   ]
  },
  {
   "cell_type": "code",
   "execution_count": null,
   "metadata": {},
   "outputs": [],
   "source": [
    "lengths_opt = {}\n",
    "keys = ['gaussian_process', 'neural_net', 'differential_evolution', 'random']\n",
    "for key in keys:\n",
    "    lengths_opt[key] = []\n",
    "    for i in range(40):\n",
    "        lengths_opt[key].append(length(torch.tensor(orders40[key][i]),torch.tensor(lengths40[i])).numpy())"
   ]
  },
  {
   "cell_type": "code",
   "execution_count": null,
   "metadata": {},
   "outputs": [],
   "source": [
    "keys = ['gaussian_process', 'neural_net', 'differential_evolution', 'random']\n",
    "for key in keys:\n",
    "    plt.hist(lengths_opt[key],label = key,alpha = 0.8)\n",
    "    plt.legend()\n",
    "    plt.show()"
   ]
  },
  {
   "cell_type": "code",
   "execution_count": null,
   "metadata": {
    "scrolled": false
   },
   "outputs": [],
   "source": [
    "fig,ax = plt.subplots(40,2,figsize = (15,120))\n",
    "for k in range(40):\n",
    "        plot_cities(ax[k,0],cities40[k],orders40['nelder_mead'][k])\n",
    "        ax[k,0].plot(np.zeros(5),'o',color='white',alpha=0.,label =# 'Длина маршрута '+\n",
    "             str(np.around(length(torch.tensor(orders40['neural_net'][k]),torch.tensor(lengths40[k])).numpy(),2)))#+'\\n алгоритм без нормировки')\n",
    "        ax[k,0].legend(fontsize = 18,loc=1)\n",
    "        \n",
    "        plot_cities(ax[k,1],cities40[k],orders40['gaussian_process'][k])\n",
    "        ax[k,1].plot(np.zeros(5),'o',color='white',alpha=0.,label =# 'Длина маршрута '+\n",
    "             str(np.around(length(torch.tensor(orders40['gaussian_process'][k]),torch.tensor(lengths40[k])).numpy(),2)))#+'\\n алгоритм без нормировки')\n",
    "        ax[k,1].legend(fontsize = 18,loc=1)\n",
    "        \n",
    "plt.show()"
   ]
  },
  {
   "cell_type": "code",
   "execution_count": null,
   "metadata": {},
   "outputs": [],
   "source": [
    "simcim.params_disc['attempt_num'] = 1000\n",
    "c_current, c_evol = simcim.evolve(params_opt)"
   ]
  },
  {
   "cell_type": "code",
   "execution_count": null,
   "metadata": {},
   "outputs": [],
   "source": [
    "s_cur = torch.sign(c_current)\n",
    "\n",
    "fig, ax = plt.subplots(1,3,figsize=(15,5))\n",
    "for i in range(c_evol.shape[0]):\n",
    "    ax[0].plot(c_evol[i].cpu().numpy())\n",
    "ax[0].set_xlabel('временной шаг', fontsize = 18)\n",
    "ax[0].set_ylabel('амплитуда $c_i$', fontsize = 18)\n",
    "ax[0].tick_params(labelsize=18)\n",
    "\n",
    "E = energy(J,h,s_cur)\n",
    "ax[1].hist(E.cpu().numpy(), label = '$H_{min} = $' + str(E.min().cpu().numpy()))\n",
    "ax[1].set_xlabel('H',fontsize = 18)\n",
    "ax[1].set_ylabel('Количество решений',fontsize = 18)\n",
    "ax[1].tick_params(labelsize=18)\n",
    "ax[1].legend(fontsize=18)\n",
    "\n",
    "s_min = s_cur[:,torch.argmin(E)]\n",
    "order = get_order_simcim(s_min,N_cities)\n",
    "\n",
    "plot_cities(ax[2],cities,order.cpu().numpy())\n",
    "ax[2].plot(np.zeros(5),'o',color='white',alpha=0.,label =# 'Длина маршрута '+\n",
    "             str(np.around(length(order,torch.tensor(lengths)).numpy(),2)))#+'\\n алгоритм без нормировки')\n",
    "ax[2].legend(fontsize = 18,loc=1)\n",
    "ax[2].tick_params(labelsize=18)\n",
    "\n",
    "fig.tight_layout()\n",
    "plt.show()"
   ]
  },
  {
   "cell_type": "code",
   "execution_count": null,
   "metadata": {},
   "outputs": [],
   "source": [
    "params_opt"
   ]
  },
  {
   "cell_type": "code",
   "execution_count": null,
   "metadata": {},
   "outputs": [],
   "source": []
  },
  {
   "cell_type": "code",
   "execution_count": null,
   "metadata": {},
   "outputs": [],
   "source": []
  }
 ],
 "metadata": {
  "kernelspec": {
   "display_name": "Python 3",
   "language": "python",
   "name": "python3"
  },
  "language_info": {
   "codemirror_mode": {
    "name": "ipython",
    "version": 3
   },
   "file_extension": ".py",
   "mimetype": "text/x-python",
   "name": "python",
   "nbconvert_exporter": "python",
   "pygments_lexer": "ipython3",
   "version": "3.7.3"
  }
 },
 "nbformat": 4,
 "nbformat_minor": 2
}
